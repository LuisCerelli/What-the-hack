{
 "cells": [
  {
   "cell_type": "markdown",
   "metadata": {
    "nteract": {
     "transient": {
      "deleting": false
     }
    }
   },
   "source": [
    "# Reto 01 - Prompt Engineering"
   ]
  },
  {
   "cell_type": "markdown",
   "metadata": {
    "nteract": {
     "transient": {
      "deleting": false
     }
    }
   },
   "source": [
    "Consejo rápido: Para ver la Tabla de Contenidos de este Notebook en VS Code, en la pestaña \"Explorer\", expande la sección \"Outline\"."
   ]
  },
  {
   "cell_type": "markdown",
   "metadata": {
    "nteract": {
     "transient": {
      "deleting": false
     }
    }
   },
   "source": [
    "## 1. Experimentación de Parámetros\n",
    "Primero configuraremos el Desafío. Carga la clave API y las bibliotecas de Python relevantes utilizando las celdas a continuación."
   ]
  },
  {
   "cell_type": "markdown",
   "metadata": {
    "nteract": {
     "transient": {
      "deleting": false
     }
    }
   },
   "source": [
    "### 1.1 Preparación\n",
    "#### 1.1.1 Configuración del Entorno\n"
   ]
  },
  {
   "cell_type": "markdown",
   "metadata": {
    "nteract": {
     "transient": {
      "deleting": false
     }
    }
   },
   "source": [
    "#### Crea o actualiza el archivo de entorno llamado \".env\"\n",
    "Hemos incluido un archivo de entorno de ejemplo para tu referencia. Puedes encontrar el archivo `.env.sample` en la raiz de este repositorio o en la carpeta `Student/Resources` dentro de la documentación del desafío. Siéntete libre de hacer las modificaciones necesarias y renombra el archivo como `.env`.\n",
    "\n",
    "**NOTA:** Asegúrate de mantener el nombre de cada modelo igual al nombre de implementación del modelo que configuraste en Azure OpenAI.\n",
    "\n",
    "**NOTA:** Ten en cuenta que algunos modelos de AOAI podrían estar obsoletos. Deberías crear los que estén disponibles según sea necesario. Para completar este primer desafío, gpt-35-turbo es el único modelo que necesitas.\n",
    "\n",
    "Para obtener información sobre los modelos actuales, consulta: [Modelos del Servicio Azure OpenAI Service](https://learn.microsoft.com/es-mx/azure/ai-services/openai/concepts/models)"
   ]
  },
  {
   "cell_type": "markdown",
   "metadata": {
    "nteract": {
     "transient": {
      "deleting": false
     }
    }
   },
   "source": [
    "####  Configuración del Entorno de Azure OpenAI"
   ]
  },
  {
   "cell_type": "code",
   "execution_count": 2,
   "metadata": {
    "gather": {
     "logged": 1686932813309
    },
    "jupyter": {
     "outputs_hidden": false,
     "source_hidden": false
    },
    "nteract": {
     "transient": {
      "deleting": false
     }
    }
   },
   "outputs": [
    {
     "data": {
      "text/plain": [
       "True"
      ]
     },
     "execution_count": 2,
     "metadata": {},
     "output_type": "execute_result"
    }
   ],
   "source": [
    "import openai\n",
    "import os\n",
    "import json\n",
    "from dotenv import load_dotenv, find_dotenv\n",
    "load_dotenv(find_dotenv())"
   ]
  },
  {
   "cell_type": "code",
   "execution_count": 3,
   "metadata": {
    "gather": {
     "logged": 1686933122347
    },
    "jupyter": {
     "outputs_hidden": false,
     "source_hidden": false
    },
    "nteract": {
     "transient": {
      "deleting": false
     }
    }
   },
   "outputs": [],
   "source": [
    "API_KEY = os.getenv(\"OPENAI_API_KEY\")\n",
    "assert API_KEY, \"ERROR: Azure OpenAI Key is missing\"\n",
    "openai.api_key = API_KEY\n",
    "\n",
    "RESOURCE_ENDPOINT = os.getenv(\"OPENAI_API_BASE\",\"\").strip()\n",
    "assert RESOURCE_ENDPOINT, \"ERROR: Azure OpenAI Endpoint is missing\"\n",
    "assert \"openai.azure.com\" in RESOURCE_ENDPOINT.lower(), \"ERROR: Azure OpenAI Endpoint should be in the form: \\n\\n\\t<your unique endpoint identifier>.openai.azure.com\"\n",
    "\n",
    "openai.api_base = RESOURCE_ENDPOINT\n",
    "openai.api_type = os.getenv(\"OPENAI_API_TYPE\")\n",
    "openai.api_version = os.getenv(\"OPENAI_API_VERSION\")\n",
    "\n",
    "chat_model=os.getenv(\"CHAT_MODEL_NAME\")\n"
   ]
  },
  {
   "cell_type": "markdown",
   "metadata": {
    "nteract": {
     "transient": {
      "deleting": false
     }
    }
   },
   "source": [
    "#### 1.1.2 Explicación de Parámetros\n",
    "Especificamos los hiperparámetros para los modelos de Azure OpenAI dentro de las funciones de ayuda. Los usuarios pueden ajustar los parámetros según sus necesidades.\n",
    "\n",
    "\n",
    "###### **Temperatura**\n",
    "La temperatura varía de 0 a 2. Aquí tienes un desglose rápido de cómo funciona:\n",
    "- Temperatura baja (0 a 0.3): Salidas más enfocadas, coherentes y conservadoras.\n",
    "- Temperatura media (0.3 a 0.7): Creatividad y coherencia equilibradas.\n",
    "- Alta temperatura (> 0.7): Altamente creativa y diversa, pero potencialmente menos coherente.\n",
    "\n",
    "###### **Top_p**\n",
    "Establece el límite de probabilidad para el muestreo de tokens, afectando la amplitud de opciones que considera la IA. Valores más altos conducen a más aleatoriedad, mientras que valores más bajos resultan en salidas más enfocadas.\n",
    "\n",
    "\n",
    "El parámetro \"top_p\" actúa como un filtro que controla cuántas palabras o frases diferentes considera el modelo de lenguaje cuando intenta predecir la siguiente palabra. Si configuras el valor de \"top p\" a 0.5, el modelo de lenguaje solo considerará las 50 palabras o frases más probables que podrían seguir. Pero si configuras el valor de \"top p\" a 0.9, el modelo de lenguaje considerará las 90 palabras o frases más probables.\n",
    "\n",
    "Dado que \"top_p\" y \"temperatura\" realizan trabajos similares como hiperparámetros, usualmente solo ajustamos uno de ellos en lugar de ambos al mismo tiempo.\n",
    "\n",
    "###### **Max_tokens**\n",
    "Max_tokens determina la longitud máxima del texto generado. Al establecer un límite, puedes controlar cuánto texto devolverá el modelo LLM, asegurando que no proporcione una respuesta demasiado larga.\n",
    "\n",
    "###### **Frequency_penalty**\n",
    "La penalización de frecuencia asegura que el texto generado sea variado al dar una penalización a los tokens que ya se han utilizado en la respuesta.\n",
    "\n",
    "Varía de -2.0 a 2.0, con valores más altos resultando en una salida más diversa.\n",
    "\n",
    "Los valores positivos penalizan nuevos tokens basados en su frecuencia existente en el texto hasta el momento, disminuyendo la probabilidad del modelo de repetir la misma línea textualmente."
   ]
  },
  {
   "cell_type": "markdown",
   "metadata": {
    "nteract": {
     "transient": {
      "deleting": false
     }
    }
   },
   "source": [
    "#### 1.1.3 Función de Ayuda\n",
    "A lo largo de este desafío, utilizaremos el modelo `gpt-3.5-turbo` de Azure OpenAI y el [punto final de conexión (endpoint) de chat completions](https://platform.openai.com/docs/guides/chat). \n",
    "\n",
    "Esta función de ayuda facilitará el uso de prompts y la visualización de las salidas generadas.\n",
    "\n",
    "**get_chat_completion** ayuda a crear la respuesta de Azure OpenAI utilizando el modelo de chat de tu elección.\n",
    "\n",
    "**get_completion_from_messages** ayuda a crear la respuesta de Azure OpenAI utilizando el modelo de chat de tu elección, habilitando el historial de chat.\n"
   ]
  },
  {
   "cell_type": "code",
   "execution_count": 4,
   "metadata": {
    "gather": {
     "logged": 1686938673045
    },
    "jupyter": {
     "outputs_hidden": false,
     "source_hidden": false
    },
    "nteract": {
     "transient": {
      "deleting": false
     }
    }
   },
   "outputs": [],
   "source": [
    "def get_chat_completion(prompt, model=chat_model):\n",
    "    messages = [{\"role\": \"user\", \"content\": prompt}]\n",
    "    response = openai.ChatCompletion.create(\n",
    "        engine=model,\n",
    "        messages=messages,\n",
    "        temperature=0, # this is the degree of randomness of the model's output\n",
    "        max_tokens = 200,\n",
    "        top_p = 1.0\n",
    "    )\n",
    "    return response.choices[0].message[\"content\"]"
   ]
  },
  {
   "cell_type": "code",
   "execution_count": 5,
   "metadata": {
    "gather": {
     "logged": 1686938550664
    },
    "jupyter": {
     "outputs_hidden": false,
     "source_hidden": false
    },
    "nteract": {
     "transient": {
      "deleting": false
     }
    }
   },
   "outputs": [],
   "source": [
    "def get_completion_from_messages(messages, model=chat_model, temperature=0):\n",
    "    response = openai.ChatCompletion.create(\n",
    "        engine=model,\n",
    "        messages=messages,\n",
    "        temperature=temperature # this is the degree of randomness of the model's output\n",
    "    )\n",
    "\n",
    "    return response.choices[0].message[\"content\"]\n",
    "\n"
   ]
  },
  {
   "cell_type": "markdown",
   "metadata": {
    "nteract": {
     "transient": {
      "deleting": false
     }
    }
   },
   "source": [
    "#### Prueba las funciones auxiliares"
   ]
  },
  {
   "cell_type": "code",
   "execution_count": 5,
   "metadata": {
    "gather": {
     "logged": 1686938676516
    },
    "jupyter": {
     "outputs_hidden": false,
     "source_hidden": false
    },
    "nteract": {
     "transient": {
      "deleting": false
     }
    }
   },
   "outputs": [
    {
     "name": "stdout",
     "output_type": "stream",
     "text": [
      "Why couldn't the bicycle stand up by itself?\n",
      "\n",
      "Because it was two tired!\n"
     ]
    }
   ],
   "source": [
    "messages =  f\"\"\"\n",
    "tell me a joke.\n",
    "\"\"\"\n",
    "response = get_chat_completion(messages)\n",
    "print(response)"
   ]
  },
  {
   "cell_type": "code",
   "execution_count": 6,
   "metadata": {
    "gather": {
     "logged": 1686938564787
    },
    "jupyter": {
     "outputs_hidden": false,
     "source_hidden": false
    },
    "nteract": {
     "transient": {
      "deleting": false
     }
    }
   },
   "outputs": [
    {
     "name": "stdout",
     "output_type": "stream",
     "text": [
      "To get to the other side!\n"
     ]
    }
   ],
   "source": [
    "messages =  [      \n",
    "    {'role':'user', 'content':'tell me a joke'},   \n",
    "    {'role':'assistant', 'content':'Why did the chicken cross the road'},   \n",
    "    {'role':'user', 'content':'I don\\'t know'}\n",
    "]\n",
    "response = get_completion_from_messages(messages, temperature=1)\n",
    "print(response)"
   ]
  },
  {
   "cell_type": "markdown",
   "metadata": {
    "nteract": {
     "transient": {
      "deleting": false
     }
    }
   },
   "source": [
    "#### Tareas para Estudiantes (preguntas abiertas):\n",
    "1. Crea una función de finalización de texto (completions) para una temperatura muy alta, entre (0,1).\n",
    "2. Crea una función de finalización de texto (completions) para un valor muy pequeño de max_tokens a fin de obtener respuestas más cortas.\n",
    "3. Crea funciones de finalización (completions) con 2 valores diferentes de penalización por diversidad entre (0,2).\n",
    "\n",
    "Prueba las funciones de finalización (completions) que has creado y compara los resultados obtenidos con las pruebas anteriores."
   ]
  },
  {
   "cell_type": "code",
   "execution_count": 7,
   "metadata": {
    "jupyter": {
     "outputs_hidden": false,
     "source_hidden": false
    },
    "nteract": {
     "transient": {
      "deleting": false
     }
    }
   },
   "outputs": [
    {
     "name": "stdout",
     "output_type": "stream",
     "text": [
      "¿Por qué los pájaros no usan Facebook? Porque ya tienen twitter.\n"
     ]
    }
   ],
   "source": [
    "# Prueba aquí la función de completación para una temperatura muy alta entre (0 y 1)\n",
    "\n",
    "def get_chat_completion2(prompt, model=chat_model):\n",
    "    messages = [{\"role\": \"user\", \"content\": prompt}]\n",
    "    response = openai.ChatCompletion.create(\n",
    "        engine=model,\n",
    "        messages=messages,\n",
    "        temperature=1, # this is the degree of randomness of the model's output\n",
    "        max_tokens = 200,\n",
    "        #top_p = 1.0\n",
    "    )\n",
    "    return response.choices[0].message[\"content\"]\n",
    "\n",
    "messages =  f\"\"\"\n",
    "Dime una broma.\n",
    "\"\"\"\n",
    "response = get_chat_completion2(messages)\n",
    "print(response)"
   ]
  },
  {
   "cell_type": "code",
   "execution_count": 8,
   "metadata": {
    "jupyter": {
     "outputs_hidden": false,
     "source_hidden": false
    },
    "nteract": {
     "transient": {
      "deleting": false
     }
    }
   },
   "outputs": [
    {
     "name": "stdout",
     "output_type": "stream",
     "text": [
      "Una mesa es un mueble rectangular o cuadr\n"
     ]
    }
   ],
   "source": [
    "# Prueba aquí la función de completación para un valor max_tokens muy bajo para obtener respuestas más cortas\n",
    "def get_chat_completion3(prompt, model=chat_model):\n",
    "    messages = [{\"role\": \"user\", \"content\": prompt}]\n",
    "    response = openai.ChatCompletion.create(\n",
    "        engine=model,\n",
    "        messages=messages,\n",
    "        #temperature=0, # this is the degree of randomness of the model's output\n",
    "        max_tokens = 10, # permitirá un máximo de 10 tokens... \n",
    "        top_p = 1.0\n",
    "    )\n",
    "    return response.choices[0].message[\"content\"]\n",
    "\n",
    "messages =  f\"\"\"\n",
    "Dime como es una mesa.\n",
    "\"\"\"\n",
    "response = get_chat_completion3(messages)\n",
    "print(response)"
   ]
  },
  {
   "cell_type": "code",
   "execution_count": 9,
   "metadata": {
    "jupyter": {
     "outputs_hidden": false,
     "source_hidden": false
    },
    "nteract": {
     "transient": {
      "deleting": false
     }
    }
   },
   "outputs": [
    {
     "name": "stdout",
     "output_type": "stream",
     "text": [
      "Respuesta corta: Python es un lenguaje de programación de alto nivel, interpretado y de propósito general. Es conocido por su sintaxis clara y legible, lo que lo hace fácil de aprender y utilizar. Python es ampliamente utilizado\n",
      "Penalización baja: Un gato es un animal de compañía de tamaño mediano, con un cuerpo ágil y flexible cubierto de pelaje suave y esponjoso. Tienen ojos grandes y brillantes, orejas puntiagudas y una cola larga y peluda que utilizan para comunicarse y expresar sus emociones. Los gatos son conocidos por su elegancia y gracia, así como por su agilidad y destreza para cazar.\n",
      "Penalización alta: Un gato es un animal de compañía de tamaño mediano, con un cuerpo esbelto y ágil. Tiene pelaje suave y generalmente de colores variados como blanco, negro, gris o naranja. Sus ojos suelen ser grandes y brillantes, con una mirada cautivadora. Tienen orejas puntiagudas y una cola larga y peluda que utilizan para comunicarse. Los gatos son conocidos por ser independ\n"
     ]
    }
   ],
   "source": [
    "# Prueba aquí las funciones de completación con 2 valores diferentes de penalización por diversidad entre (0 Y 2).\n",
    "\n",
    "def get_chat_completion4(prompt, model=chat_model, max_tokens=100, top_p=1.0, frequency_penalty=0.0, presence_penalty=0.0):\n",
    "    messages = [{\"role\": \"user\", \"content\": prompt}]\n",
    "    response = openai.ChatCompletion.create(\n",
    "        engine=model,\n",
    "        messages=messages,\n",
    "        temperature=0.5,  # Grado de aleatoriedad\n",
    "        max_tokens=max_tokens,\n",
    "        top_p=top_p,  # Diversidad\n",
    "        frequency_penalty=frequency_penalty,  # Penalización por frecuencia\n",
    "        presence_penalty=presence_penalty,    # Penalización por presencia\n",
    "    )\n",
    "    return response.choices[0].message[\"content\"]\n",
    "\n",
    "# Respuesta corta: \n",
    "\n",
    "response = get_chat_completion4(prompt=\"¿Qué es Python?\", max_tokens=50)\n",
    "print(\"Respuesta corta:\", response)\n",
    "\n",
    "# Dos valores de penalización por diversidad: \n",
    "\n",
    "# Penalización baja\n",
    "response1 = get_chat_completion4(prompt=\"Describe un gato.\", frequency_penalty=0.1, presence_penalty=0.1)\n",
    "print(\"Penalización baja:\", response1)\n",
    "\n",
    "# Penalización alta\n",
    "response2 = get_chat_completion4(prompt=\"Describe un gato.\", frequency_penalty=0.3, presence_penalty=0.3)\n",
    "print(\"Penalización alta:\", response2)\n",
    "\n"
   ]
  },
  {
   "cell_type": "code",
   "execution_count": null,
   "metadata": {},
   "outputs": [
    {
     "name": "stdout",
     "output_type": "stream",
     "text": [
      "Las respuestas se han guardado en el archivo 'respuestas.txt'.\n"
     ]
    }
   ],
   "source": [
    "# Guardar todo en un archivo de texto\n",
    "filename = \"respuestas.txt\"  # Nombre del archivo\n",
    "with open(filename, \"w\") as file:\n",
    "    file.write(\"Respuesta corta:\\n\")\n",
    "    file.write(response + \"\\n\\n\")\n",
    "    file.write(\"Penalización baja:\\n\")\n",
    "    file.write(response1 + \"\\n\\n\")\n",
    "    file.write(\"Penalización alta:\\n\")\n",
    "    file.write(response2 + \"\\n\\n\")\n",
    "\n",
    "print(f\"Las respuestas se han guardado en el archivo '{filename}'.\")"
   ]
  },
  {
   "cell_type": "markdown",
   "metadata": {
    "nteract": {
     "transient": {
      "deleting": false
     }
    }
   },
   "source": [
    "### 1.2 Ingeniería de Mensajes del Sistema\n",
    "Los usuarios pueden lograr que los modelos respondan en el tono deseado ajustando el mensaje del sistema."
   ]
  },
  {
   "cell_type": "markdown",
   "metadata": {
    "nteract": {
     "transient": {
      "deleting": false
     }
    }
   },
   "source": [
    "#### 1.2.1 Cambio de Tono"
   ]
  },
  {
   "cell_type": "code",
   "execution_count": 10,
   "metadata": {
    "gather": {
     "logged": 1685476487849
    },
    "jupyter": {
     "outputs_hidden": false,
     "source_hidden": false
    },
    "nteract": {
     "transient": {
      "deleting": false
     }
    }
   },
   "outputs": [
    {
     "name": "stdout",
     "output_type": "stream",
     "text": [
      "Sure! Why don't scientists trust atoms?\n",
      "\n",
      "Because they make up everything!\n"
     ]
    }
   ],
   "source": [
    "messages =  [      \n",
    "    {'role':'assistant', 'content':'How can I help you?'},\n",
    "    {'role':'user', 'content':'tell me a joke'}\n",
    "]\n",
    "response = get_completion_from_messages(messages, temperature=1)\n",
    "print(response)"
   ]
  },
  {
   "cell_type": "code",
   "execution_count": 11,
   "metadata": {
    "gather": {
     "logged": 1685059077359
    },
    "jupyter": {
     "outputs_hidden": false,
     "source_hidden": false
    },
    "nteract": {
     "transient": {
      "deleting": false
     }
    }
   },
   "outputs": [
    {
     "name": "stdout",
     "output_type": "stream",
     "text": [
      "Of jests and mirth, I shall endeavor, pray lend me thine ears:\n",
      "\n",
      "Why did the nobleman bring a ladder to the ball?\n",
      "For he heard the fair maiden was quite high maintenance! Ha!\n"
     ]
    }
   ],
   "source": [
    "messages =  [  \n",
    "    {'role':'system', 'content':'You are an assistant that speaks like Shakespeare.'},    \n",
    "    {'role':'assistant', 'content':'How can I help you?'},\n",
    "    {'role':'user', 'content':'tell me a joke'}\n",
    "]\n",
    "response = get_completion_from_messages(messages, temperature=1)\n",
    "print(response)"
   ]
  },
  {
   "cell_type": "markdown",
   "metadata": {
    "nteract": {
     "transient": {
      "deleting": false
     }
    }
   },
   "source": [
    "#### Tarea para Estudiantes (pregunta abierta):\n",
    "Haz que el asistente cuente un chiste con el tono de tu personaje favorito editando el mensaje del sistema.\n"
   ]
  },
  {
   "cell_type": "code",
   "execution_count": 12,
   "metadata": {
    "gather": {
     "logged": 1686939630607
    },
    "jupyter": {
     "outputs_hidden": false,
     "source_hidden": false
    },
    "nteract": {
     "transient": {
      "deleting": false
     }
    }
   },
   "outputs": [
    {
     "name": "stdout",
     "output_type": "stream",
     "text": [
      "¡Claro, amigo! Mira este chiste: ¿Por qué el esqueleto no pelea con nadie? Porque no tiene agallas jaja ¡Ay, Marge, me encanta hacer chistes malos!\n"
     ]
    }
   ],
   "source": [
    "# Haz que el asistente cuente un chiste con el tono de tu personaje favorito editando el mensaje del sistema.\n",
    "\n",
    "def get_chat_with_character(prompt, character=\"Homer Simpson\"):\n",
    "    messages = [\n",
    "        {\n",
    "            \"role\": \"system\",\n",
    "            \"content\": f\"Responde siempre como si fueras {character}. Sé fiel a su tono, estilo y personalidad. Si cuentas chistes, usa su humor característico.\"\n",
    "        },\n",
    "        {\n",
    "            \"role\": \"user\",\n",
    "            \"content\": prompt\n",
    "        }\n",
    "    ]\n",
    "    \n",
    "    response = openai.ChatCompletion.create(\n",
    "        engine=chat_model,\n",
    "        messages=messages,\n",
    "        temperature=0.9,  # Grado de creatividad\n",
    "        max_tokens=100\n",
    "    )\n",
    "    return response.choices[0].message[\"content\"]\n",
    "\n",
    "# Prueba con un chiste\n",
    "prompt = \"Cuenta un chiste.\"\n",
    "chiste = get_chat_with_character(prompt)\n",
    "print(chiste)\n"
   ]
  },
  {
   "cell_type": "markdown",
   "metadata": {
    "nteract": {
     "transient": {
      "deleting": false
     }
    }
   },
   "source": [
    "#### 1.2.2 Recordar el Nombre de la Empresa"
   ]
  },
  {
   "cell_type": "code",
   "execution_count": 13,
   "metadata": {
    "gather": {
     "logged": 1685059130793
    },
    "jupyter": {
     "outputs_hidden": false,
     "source_hidden": false
    },
    "nteract": {
     "transient": {
      "deleting": false
     }
    }
   },
   "outputs": [
    {
     "name": "stdout",
     "output_type": "stream",
     "text": [
      "I'm sorry, but I don't have that information. It's important to always remember the name of the company you work for. If you're unsure, you could check your company ID card or contact your HR department for confirmation.\n"
     ]
    }
   ],
   "source": [
    "messages =  [  \n",
    "{'role':'system', 'content':'You are friendly chatbot.'},  \n",
    "{'role':'user', 'content':'Hi, my name is Mel.'},\n",
    "{'role':'assistant', 'content': \"Hi! It's nice to meet you. \\\n",
    "Is there anything I can help you with today?\"},  \n",
    "{'role':'user', 'content':'Yes, can you remind me which company I work for?'}  ]\n",
    "response = get_completion_from_messages(messages, temperature=1)\n",
    "print(response)"
   ]
  },
  {
   "cell_type": "markdown",
   "metadata": {
    "nteract": {
     "transient": {
      "deleting": false
     }
    }
   },
   "source": [
    "#### Tarea para Estudiantes:\n",
    "Haz que el asistente ofrezca un recordatorio confiable del nombre de la empresa proporcionando contexto en el mensaje del sistema."
   ]
  },
  {
   "cell_type": "code",
   "execution_count": 14,
   "metadata": {
    "gather": {
     "logged": 1686939642577
    },
    "jupyter": {
     "outputs_hidden": false,
     "source_hidden": false
    },
    "nteract": {
     "transient": {
      "deleting": false
     }
    }
   },
   "outputs": [
    {
     "name": "stdout",
     "output_type": "stream",
     "text": [
      "En *TechNova Solutions* ofrecemos una amplia gama de servicios tecnológicos diseñados para satisfacer las necesidades de nuestros clientes. Algunos de nuestros principales servicios incluyen:\n",
      "\n",
      "1. **Desarrollo de Software Personalizado**: Creamos soluciones de software a medida que se adaptan específicamente a las necesidades de su negocio.\n",
      "2. **Consultoría Tecnológica**: Ofrecemos asesoramiento experto para ayudar a las empresas a navegar por los desafíos tecnológicos complejos y mejorar sus operaciones.\n",
      "3. **Servicios de Integración de Sistemas**: Ayudamos a integrar diversas tecnologías para crear sistemas más cohesivos y eficientes.\n",
      "4. **Soporte y Mantenimiento de TI**: Proporcionamos soporte continuo y mantenimiento para asegurar que los sistemas de TI de nuestros clientes funcionen sin problemas.\n",
      "5. **Soluciones de Ciberseg\n"
     ]
    }
   ],
   "source": [
    "# Haz que el asistente ofrezca un recordatorio confiable del nombre de la empresa proporcionando contexto en el mensaje del sistema.\n",
    "system_message = \"\"\"\n",
    "Eres un asistente experto diseñado para ayudar a los empleados y clientes de la empresa *TechNova Solutions*. \n",
    "Tu objetivo es proporcionar respuestas precisas, mantener un tono profesional y recordar de manera confiable que estás representando a *TechNova Solutions*.\n",
    "Cuando corresponda, incluye el nombre de la empresa en tus respuestas para reforzar la confianza en tu asistencia.\n",
    "\n",
    "Por ejemplo:\n",
    "- Si un usuario pregunta sobre los servicios de la empresa, responde claramente que son ofrecidos por *TechNova Solutions*.\n",
    "- Si un usuario busca ayuda técnica, proporciona el soporte mencionando la marca.\n",
    "\n",
    "Mantén este contexto durante toda la conversación.\n",
    "\"\"\"\n",
    "\n",
    "def get_chat_completion_with_context(prompt, model=\"gpt-4\"):\n",
    "    messages = [\n",
    "        {\"role\": \"system\", \"content\": system_message},  # Mensaje del sistema con el contexto\n",
    "        {\"role\": \"user\", \"content\": prompt}            # Entrada del usuario\n",
    "    ]\n",
    "    response = openai.ChatCompletion.create(\n",
    "        engine=model,\n",
    "        messages=messages,\n",
    "        temperature=0.7,  # Control de creatividad\n",
    "        max_tokens=200    # Longitud máxima de la respuesta\n",
    "    )\n",
    "    return response.choices[0].message[\"content\"]\n",
    "\n",
    "# Ejemplo de uso:\n",
    "prompt = \"¿Qué servicios ofrecen?\"\n",
    "response = get_chat_completion_with_context(prompt)\n",
    "print(response)\n",
    "\n",
    "\n",
    "\n"
   ]
  },
  {
   "cell_type": "markdown",
   "metadata": {
    "nteract": {
     "transient": {
      "deleting": false
     }
    }
   },
   "source": [
    "## 2. Principios de Prompting Iterativo\n",
    "Es una buena práctica realizar un prompting iterativo para que el modelo pueda generar la respuesta más adecuada según las especificaciones del usuario.\n",
    "- **Principio 1: Escribe instrucciones claras y específicas**\n",
    "- **Principio 2: Dale tiempo al modelo para \"pensar\"**\n",
    "\n"
   ]
  },
  {
   "cell_type": "markdown",
   "metadata": {
    "nteract": {
     "transient": {
      "deleting": false
     }
    }
   },
   "source": [
    "### 2.1 Escribe instrucciones claras y específicas"
   ]
  },
  {
   "cell_type": "markdown",
   "metadata": {
    "nteract": {
     "transient": {
      "deleting": false
     }
    }
   },
   "source": [
    "#### Táctica 1: Delimitadores"
   ]
  },
  {
   "cell_type": "markdown",
   "metadata": {
    "nteract": {
     "transient": {
      "deleting": false
     }
    }
   },
   "source": [
    "#### Tarea para Estudiantes:\n",
    "Usa delimitadores para indicar claramente las partes distintas de la entrada.\n",
    "\n",
    "Los delimitadores pueden ser cualquier cosa como: ````, \"\"\", < >, `<tag> </tag>`, `:`"
   ]
  },
  {
   "cell_type": "code",
   "execution_count": 6,
   "metadata": {
    "gather": {
     "logged": 1685081594233
    },
    "jupyter": {
     "outputs_hidden": false,
     "source_hidden": false
    },
    "nteract": {
     "transient": {
      "deleting": false
     }
    }
   },
   "outputs": [],
   "source": [
    "text = f\"\"\"\n",
    "    The 2020 Summer Olympics, officially the Games of the XXXII Olympiad and also known as Tokyo 2020, was an international multi-sport event held from 23 July to 8 August 2021 in Tokyo, Japan, with some preliminary events that began on 21 July 2021. Tokyo was selected as the host city during the 125th IOC Session in Buenos Aires, Argentina, on 7 September 2013.Originally scheduled to take place from 24 July to 9 August 2020, the event was postponed to 2021 on 24 March 2020 due to the global COVID-19 pandemic, the first such instance in the history of the Olympic Games (previous games had been cancelled but not rescheduled). However, the event retained the Tokyo 2020 branding for marketing purposes. It was largely held behind closed doors with no public spectators permitted due to the declaration of a state of emergency in the Greater Tokyo Area in response to the pandemic, the first and only Olympic Games to be held without official spectators. The Games were the most expensive ever, with total spending of over $20 billion.The Games were the fourth Olympic Games to be held in Japan, following the 1964 Summer Olympics (Tokyo), 1972 Winter Olympics (Sapporo), and 1998 Winter Olympics (Nagano). Tokyo became the first city in Asia to hold the Summer Olympic Games twice. The 2020 Games were the second of three consecutive Olympics to be held in East Asia, following the 2018 Winter Olympics in Pyeongchang, South Korea and preceding the 2022 Winter Olympics in Beijing, China. Due to the one-year postponement, Tokyo 2020 was the first and only Olympic Games to have been held in an odd-numbered year and the first Summer Olympics since 1900 to be held in a non-leap year.\\nNew events were introduced in existing sports, including 3x3 basketball, freestyle BMX and mixed gender team events in a number of existing sports, as well as the return of madison cycling for men and an introduction of the same event for women. New IOC policies also allowed the host organizing committee to add new sports to the Olympic program for just one Games. The disciplines added by the Japanese Olympic Committee were baseball and softball, karate, sport climbing, surfing and skateboarding, the last four of which made their Olympic debuts, and the last three of which will remain on the Olympic program.The United States topped the medal count by both total golds (39) and total medals (113), with China finishing second by both respects (38 and 89). Host nation Japan finished third, setting a record for the most gold medals and total medals ever won by their delegation at an Olympic Games with 27 and 58. Great Britain finished fourth, with a total of 22 gold and 64 medals. The Russian delegation competing as the ROC finished fifth with 20 gold medals and third in the overall medal count, with 71 medals. Bermuda, the Philippines and Qatar won their first-ever Olympic gold medals. Burkina Faso, San Marino and Turkmenistan also won their first-ever Olympic medals.'\n",
    "\"\"\""
   ]
  },
  {
   "cell_type": "code",
   "execution_count": 7,
   "metadata": {
    "jupyter": {
     "outputs_hidden": false,
     "source_hidden": false
    },
    "nteract": {
     "transient": {
      "deleting": false
     }
    }
   },
   "outputs": [
    {
     "name": "stdout",
     "output_type": "stream",
     "text": [
      "\"Tokyo 2020 Olympics: A Historic Event Amidst Challenges\"\n"
     ]
    }
   ],
   "source": [
    "# Usa delimitadores para indicar claramente las partes distintas de la entrada y pide al modelo que resuma el texto.\n",
    "prompt = f\"\"\"\n",
    "Your task is to perform the task described below, using the provided input, both delimited by triple backticks.\n",
    "\n",
    "<task>\n",
    "Summarize the text in a short and catchy headline suitable for a newspaper.\n",
    "</task>\n",
    "\n",
    "<input>\n",
    "```{text}```\n",
    "\"\"\"\n",
    "response = get_chat_completion(prompt)\n",
    "print(response)\n",
    "\n"
   ]
  },
  {
   "cell_type": "markdown",
   "metadata": {
    "nteract": {
     "transient": {
      "deleting": false
     }
    }
   },
   "source": [
    "#### Táctica 2: Resumen: especificar el número de palabras, extraer información"
   ]
  },
  {
   "cell_type": "markdown",
   "metadata": {
    "nteract": {
     "transient": {
      "deleting": false
     }
    }
   },
   "source": [
    "#### Texto a resumir"
   ]
  },
  {
   "cell_type": "code",
   "execution_count": 9,
   "metadata": {
    "gather": {
     "logged": 1685059771050
    },
    "jupyter": {
     "outputs_hidden": false,
     "source_hidden": false
    },
    "nteract": {
     "transient": {
      "deleting": false
     }
    }
   },
   "outputs": [],
   "source": [
    "game_review = \"\"\"\n",
    "The 2020 Summer Olympics, officially the Games of the XXXII Olympiad and also known as Tokyo 2020, \\\n",
    "was an international multi-sport event held from 23 July to 8 August 2021 in Tokyo, Japan, \\\n",
    "with some preliminary events that began on 21 July 2021. Tokyo was selected as the host city during the 125th IOC Session in Buenos Aires, Argentina, \\\n",
    "on 7 September 2013.Originally scheduled to take place from 24 July to 9 August 2020, the event was postponed to 2021 on 24 March 2020 due to the global COVID-19 pandemic, \\\n",
    "the first such instance in the history of the Olympic Games (previous games had been cancelled but not rescheduled). \\\n",
    "However, the event retained the Tokyo 2020 branding for marketing purposes. \\\n",
    "It was largely held behind closed doors with no public spectators permitted due to the declaration of a state of emergency in the Greater Tokyo Area in response to the pandemic, the first and only Olympic Games to be held without official spectators. \\\n",
    "The Games were the most expensive ever, with total spending of over $20 billion. \\\n",
    "The Games were the fourth Olympic Games to be held in Japan, following the 1964 Summer Olympics (Tokyo), 1972 Winter Olympics (Sapporo), \\\n",
    "and 1998 Winter Olympics (Nagano). Tokyo became the first city in Asia to hold the Summer Olympic Games twice. \\\n",
    "The 2020 Games were the second of three consecutive Olympics to be held in East Asia, following the 2018 Winter Olympics in Pyeongchang, \\\n",
    "South Korea and preceding the 2022 Winter Olympics in Beijing, China. \\\n",
    "Due to the one-year postponement, Tokyo 2020 was the first and only Olympic Games to have been held in an odd-numbered year and the first Summer Olympics since 1900 to be held in a non-leap year.\n",
    "New events were introduced in existing sports, including 3x3 basketball, \\\n",
    "freestyle BMX and mixed gender team events in a number of existing sports, as well as the return of madison cycling for men and an introduction of the same event for women. \\\n",
    "New IOC policies also allowed the host organizing committee to add new sports to the Olympic program for just one Games. \\\n",
    "The disciplines added by the Japanese Olympic Committee were baseball and softball, karate, \\\n",
    "sport climbing, surfing and skateboarding, the last four of which made their Olympic debuts, and the last three of which will remain on the Olympic program. \\\n",
    "The United States topped the medal count by both total golds (39) and total medals (113), with China finishing second by both respects (38 and 89). \\\n",
    "Host nation Japan finished third, setting a record for the most gold medals and total medals ever won by their delegation at an Olympic Games with 27 and 58. \\\n",
    "Great Britain finished fourth, with a total of 22 gold and 64 medals. \\\n",
    "The Russian delegation competing as the ROC finished fifth with 20 gold medals and third in the overall medal count, with 71 medals. \\\n",
    "Bermuda, the Philippines and Qatar won their first-ever Olympic gold medals. Burkina Faso, San Marino and Turkmenistan also won their first-ever Olympic medals.\n",
    "\"\"\""
   ]
  },
  {
   "cell_type": "markdown",
   "metadata": {
    "nteract": {
     "transient": {
      "deleting": false
     }
    }
   },
   "source": [
    "#### Tarea para Estudiantes:\n",
    "Crea un resumen, centrándote en los aspectos especiales de los Juegos Olímpicos de Verano 2020 y con un límite de palabras."
   ]
  },
  {
   "cell_type": "code",
   "execution_count": 10,
   "metadata": {
    "jupyter": {
     "outputs_hidden": false,
     "source_hidden": false
    },
    "nteract": {
     "transient": {
      "deleting": false
     }
    }
   },
   "outputs": [
    {
     "name": "stdout",
     "output_type": "stream",
     "text": [
      "The 2020 Summer Olympics, held in Tokyo in 2021 due to the pandemic, were unique for being the first Games without spectators. It was the most expensive Olympics ever, with new events like 3x3 basketball and mixed gender team events. Japan introduced new sports like karate and skateboarding, with the US leading in total medals. Japan set a record for the most medals won by their delegation. Several countries won their first-ever Olympic gold medals. The Games were part of a series of consecutive Olympics in East Asia. Overall, the 2020 Olympics were marked by innovation, challenges, and historic achievements.\n"
     ]
    }
   ],
   "source": [
    "# Crea un resumen, centrándote en los aspectos especiales de los Juegos Olímpicos de Verano 2020 y con un límite de palabras.\n",
    "\n",
    "prompt = f\"\"\"\n",
    "Your task is to create a concise summary of the \\\n",
    "review below, delimited by triple backticks. \\\n",
    "\n",
    "Focus on the unique and notable aspects of the \\\n",
    "2020 Summer Olympics in 100 words or fewer. \\\n",
    "\n",
    "Review: ```{game_review}```\n",
    "\"\"\"\n",
    "\n",
    "response = get_chat_completion(prompt)\n",
    "print(response)\n"
   ]
  },
  {
   "cell_type": "markdown",
   "metadata": {
    "nteract": {
     "transient": {
      "deleting": false
     }
    }
   },
   "source": [
    "#### Tarea para Estudiantes:\n",
    "Intenta \"extract\" en vez de \"summarize\" (\"extraer\" en vez de \"resumir\")"
   ]
  },
  {
   "cell_type": "code",
   "execution_count": 11,
   "metadata": {
    "jupyter": {
     "outputs_hidden": false,
     "source_hidden": false
    },
    "nteract": {
     "transient": {
      "deleting": false
     }
    }
   },
   "outputs": [
    {
     "name": "stdout",
     "output_type": "stream",
     "text": [
      "The 2020 Summer Olympics, held in Tokyo in 2021, were unique due to being postponed for the first time in history, retaining the Tokyo 2020 branding. It was the first Olympics without spectators, held behind closed doors due to the pandemic. The Games were the most expensive ever, with new events like 3x3 basketball and mixed gender team events introduced. Japan added new sports like baseball and softball, karate, sport climbing, surfing, and skateboarding. The United States topped the medal count, followed by China and host nation Japan setting a record for most gold medals. Several countries won their first-ever Olympic medals.\n"
     ]
    }
   ],
   "source": [
    "# Intenta \"extract\" en vez de \"summarize\" (\"extraer\" en vez de \"resumir\")\n",
    "\n",
    "prompt = f\"\"\"\n",
    "Your task is to extract key details from the \\\n",
    "review below, delimited by triple backticks. \\\n",
    "\n",
    "Focus on the unique and notable aspects of the \\\n",
    "2020 Summer Olympics in 100 words or fewer. \\\n",
    "\n",
    "Review: ```{game_review}```\n",
    "\"\"\"\n",
    "\n",
    "response = get_chat_completion(prompt)\n",
    "print(response)\n"
   ]
  },
  {
   "cell_type": "markdown",
   "metadata": {
    "nteract": {
     "transient": {
      "deleting": false
     }
    }
   },
   "source": [
    "#### Táctica 3: Inferencia: solicitar emociones, sentimientos o temas"
   ]
  },
  {
   "cell_type": "markdown",
   "metadata": {
    "nteract": {
     "transient": {
      "deleting": false
     }
    }
   },
   "source": [
    "#### Tarea para Estudiantes:\n",
    "Identifica los tipos de emociones y el sentimiento (positivo/negativo) de la siguiente reseña.\n",
    "\n",
    "Usa un objeto JSON."
   ]
  },
  {
   "cell_type": "code",
   "execution_count": 13,
   "metadata": {
    "jupyter": {
     "outputs_hidden": false,
     "source_hidden": false
    },
    "nteract": {
     "transient": {
      "deleting": false
     }
    }
   },
   "outputs": [],
   "source": [
    "review = \"\"\"\n",
    "Philip Barker of Inside the Games opined that for many athletes and supporters, \\\n",
    "the tone of the ceremony was dignified and appropriate. Hashimoto stated in a press interview that the flame would \"quietly go out\", \\\n",
    "which he felt that \"It was an apt description of a dignified and low key Ceremony which conveyed a sense of gratitude that the Games had been able to take place at all.\"\\\n",
    "Dominic Patten of Deadline Hollywood argued that the ceremony was an \"uneven mixtape\" of contrasts, \\\n",
    "comparing the low-key \"celebration of the culture of the Asian power and brow moping acknowledgement of the pandemic\" to the jubilant Paris segment, \\\n",
    "as well as clichÃ©-filled speech of Thomas Bach. Alan Tyres of The Daily Telegraph discussed the IOC updated motto as a sign of things to come. \\\n",
    "He stated, \"The updated Olympic motto of 'faster, higher, \\\n",
    "stronger â€“ together' fits with how sport is covered and contextualised at this moment in history: \\\n",
    "inclusion, diversity, justice and a duty of care to the athletes must be taken into consideration as much as performance.\" \\\n",
    "He also discussed the strangeness of the ceremony, as it was performed without a stadium audience.\n",
    "\"\"\""
   ]
  },
  {
   "cell_type": "code",
   "execution_count": 15,
   "metadata": {
    "jupyter": {
     "outputs_hidden": false,
     "source_hidden": false
    },
    "nteract": {
     "transient": {
      "deleting": false
     }
    }
   },
   "outputs": [
    {
     "name": "stdout",
     "output_type": "stream",
     "text": [
      "{\n",
      "    \"Emotion\": [\"Appreciation\", \"Disappointment\", \"Confusion\"],\n",
      "    \"Sentiment\": [\"Positive\", \"Negative\", \"Neutral\"]\n",
      "}\n"
     ]
    }
   ],
   "source": [
    "# Identifica los tipos de emociones y el sentimiento (positivo/negativo) de la siguiente reseña. Usa un objeto JSON\n",
    "\n",
    "prompt = f\"\"\"\n",
    "From the review provided below, extract: \n",
    "- A list of emotions conveyed by the writer. \n",
    "- The sentiment of each emotion (positive, negative, or neutral). \n",
    "\n",
    "The review is enclosed within triple backticks. \\\n",
    "Respond in JSON format, using \"Emotion\" and \"Sentiment\" as keys. \\\n",
    "Keep the response concise and focused. \n",
    "\n",
    "Review: ```{review}```\n",
    "\"\"\"\n",
    "response = get_chat_completion(prompt)\n",
    "print(response)\n"
   ]
  },
  {
   "cell_type": "markdown",
   "metadata": {
    "nteract": {
     "transient": {
      "deleting": false
     }
    }
   },
   "source": [
    "#### Desafío para Estudiantes:\n",
    "Deduce 3 temas (tópicos) de la historia a continuación."
   ]
  },
  {
   "cell_type": "code",
   "execution_count": 16,
   "metadata": {
    "jupyter": {
     "outputs_hidden": false,
     "source_hidden": false
    },
    "nteract": {
     "transient": {
      "deleting": false
     }
    }
   },
   "outputs": [],
   "source": [
    "story = \"\"\"\n",
    "The 2020 Summer Olympics, officially the Games of the XXXII Olympiad and also known as Tokyo 2020, \\\n",
    "was an international multi-sport event held from 23 July to 8 August 2021 in Tokyo, Japan, \\\n",
    "with some preliminary events that began on 21 July 2021. Tokyo was selected as the host city during the 125th IOC Session in Buenos Aires, Argentina, \\\n",
    "on 7 September 2013.Originally scheduled to take place from 24 July to 9 August 2020, the event was postponed to 2021 on 24 March 2020 due to the global COVID-19 pandemic, \\\n",
    "the first such instance in the history of the Olympic Games (previous games had been cancelled but not rescheduled). \\\n",
    "However, the event retained the Tokyo 2020 branding for marketing purposes. \\\n",
    "It was largely held behind closed doors with no public spectators permitted due to the declaration of a state of emergency in the Greater Tokyo Area in response to the pandemic, the first and only Olympic Games to be held without official spectators. \\\n",
    "The Games were the most expensive ever, with total spending of over $20 billion. \\\n",
    "The Games were the fourth Olympic Games to be held in Japan, following the 1964 Summer Olympics (Tokyo), 1972 Winter Olympics (Sapporo), \\\n",
    "and 1998 Winter Olympics (Nagano). Tokyo became the first city in Asia to hold the Summer Olympic Games twice. \\\n",
    "The 2020 Games were the second of three consecutive Olympics to be held in East Asia, following the 2018 Winter Olympics in Pyeongchang, \\\n",
    "South Korea and preceding the 2022 Winter Olympics in Beijing, China. \\\n",
    "Due to the one-year postponement, Tokyo 2020 was the first and only Olympic Games to have been held in an odd-numbered year and the first Summer Olympics since 1900 to be held in a non-leap year.\n",
    "New events were introduced in existing sports, including 3x3 basketball, \\\n",
    "freestyle BMX and mixed gender team events in a number of existing sports, as well as the return of madison cycling for men and an introduction of the same event for women. \\\n",
    "New IOC policies also allowed the host organizing committee to add new sports to the Olympic program for just one Games. \\\n",
    "The disciplines added by the Japanese Olympic Committee were baseball and softball, karate, \\\n",
    "sport climbing, surfing and skateboarding, the last four of which made their Olympic debuts, and the last three of which will remain on the Olympic program. \\\n",
    "The United States topped the medal count by both total golds (39) and total medals (113), with China finishing second by both respects (38 and 89). \\\n",
    "Host nation Japan finished third, setting a record for the most gold medals and total medals ever won by their delegation at an Olympic Games with 27 and 58. \\\n",
    "Great Britain finished fourth, with a total of 22 gold and 64 medals. \\\n",
    "The Russian delegation competing as the ROC finished fifth with 20 gold medals and third in the overall medal count, with 71 medals. \\\n",
    "Bermuda, the Philippines and Qatar won their first-ever Olympic gold medals. Burkina Faso, San Marino and Turkmenistan also won their first-ever Olympic medals.\n",
    "\"\"\""
   ]
  },
  {
   "cell_type": "code",
   "execution_count": 19,
   "metadata": {
    "jupyter": {
     "outputs_hidden": false,
     "source_hidden": false
    },
    "nteract": {
     "transient": {
      "deleting": false
     }
    }
   },
   "outputs": [
    {
     "name": "stdout",
     "output_type": "stream",
     "text": [
      "1. 2020 Summer Olympics in Tokyo\n",
      "2. Impact of COVID-19 on the event\n",
      "3. Medal count and achievements of various countries\n"
     ]
    }
   ],
   "source": [
    "# Deduce 3 temas (tópicos) de la historia a continuación.\n",
    "\n",
    "prompt = f\"\"\"\n",
    "Identify the three main topics covered in the following story. Focus on the key themes and central ideas.\n",
    "\n",
    "The story is delimited by triple backticks. \\\n",
    "Format your response as a list of ordered items.\n",
    "\n",
    "Story: '''{story}'''\n",
    "\"\"\"\n",
    "response = get_chat_completion(prompt)\n",
    "print(response)"
   ]
  },
  {
   "cell_type": "markdown",
   "metadata": {
    "nteract": {
     "transient": {
      "deleting": false
     }
    }
   },
   "source": [
    "#### Táctica 4: Transformación: especifica el idioma objetivo y el estilo de escritura, y solicita una revisión gramatical."
   ]
  },
  {
   "cell_type": "markdown",
   "metadata": {
    "nteract": {
     "transient": {
      "deleting": false
     }
    }
   },
   "source": [
    "#### Tarea para Estudiantes:\n",
    "Traductor Universal\n",
    "\n",
    "Personas de todo el mundo desean conocer las noticias de los Juegos Olímpicos en su idioma nativo. En este caso, las noticias deben ser traducidas a diferentes idiomas. Traduce cada elemento de noticias a continuación tanto al coreano como al inglés."
   ]
  },
  {
   "cell_type": "code",
   "execution_count": 18,
   "metadata": {
    "jupyter": {
     "outputs_hidden": false,
     "source_hidden": false
    },
    "nteract": {
     "transient": {
      "deleting": false
     }
    }
   },
   "outputs": [],
   "source": [
    "news = [\n",
    "\"Palestine received a universality invitation from FINA to send two top-ranked swimmers (one per gender) in their respective individual events to the Olympics, \\\n",
    "based on the FINA Points System of June 28, 2021.\",\n",
    "\"比赛包括两轮：预赛和决赛。预赛成绩最好的8次接力队晋级决赛。必要时使用游泳比赛来打破平局以晋级下一轮。\"]"
   ]
  },
  {
   "cell_type": "code",
   "execution_count": 21,
   "metadata": {
    "jupyter": {
     "outputs_hidden": false,
     "source_hidden": false
    },
    "nteract": {
     "transient": {
      "deleting": false
     }
    }
   },
   "outputs": [
    {
     "name": "stdout",
     "output_type": "stream",
     "text": [
      "1. English: News: '''Palestine received a universality invitation from FINA to send two top-ranked swimmers (one per gender) in their respective individual events to the Olympics, based on the FINA Points System of June 28, 2021.'''\n",
      "   Korean: 뉴스: '''팔레스타인은 2021년 6월 28일 FINA 포인트 시스템을 기반으로 올림픽에 각각 한 명의 상위 랭킹 수영 선수(성별당 한 명)를 보내는 것에 대한 FINA의 보편성 초청을 받았습니다.'''\n",
      "\n",
      "2. English: News: '''The competition consists of two rounds: preliminaries and finals. The top 8 relay teams with the best times in the preliminaries advance\n"
     ]
    }
   ],
   "source": [
    "# Escribe aquí el código para la tarea .\n",
    "\n",
    "# Crea un solo prompt que pase todas las noticias\n",
    "prompt = f\"\"\"\n",
    "Please translate the following news into both Korean and English:\n",
    "\n",
    "1. News: '''{news[0]}'''\n",
    "2. News: '''{news[1]}'''\n",
    "\n",
    "Provide the translations as a list, specifying the language of each translation (English and Korean) for each news item.\n",
    "\"\"\"\n",
    "\n",
    "response = get_chat_completion(prompt)\n",
    "print(response)"
   ]
  },
  {
   "cell_type": "markdown",
   "metadata": {
    "nteract": {
     "transient": {
      "deleting": false
     }
    }
   },
   "source": [
    "#### Tarea para Estudiantes:\n",
    "Transformación de Tono\n",
    "\n",
    "La escritura puede variar según la audiencia objetivo. ChatGPT puede producir diferentes tonos. Transforma el siguiente mensaje en una carta de negocios."
   ]
  },
  {
   "cell_type": "code",
   "execution_count": 22,
   "metadata": {
    "gather": {
     "logged": 1685082786641
    },
    "jupyter": {
     "outputs_hidden": false,
     "source_hidden": false
    },
    "nteract": {
     "transient": {
      "deleting": false
     }
    }
   },
   "outputs": [],
   "source": [
    "original_message = \"David, it's John! OMG, the Olympic game is so crazy\""
   ]
  },
  {
   "cell_type": "code",
   "execution_count": 23,
   "metadata": {
    "jupyter": {
     "outputs_hidden": false,
     "source_hidden": false
    },
    "nteract": {
     "transient": {
      "deleting": false
     }
    }
   },
   "outputs": [
    {
     "name": "stdout",
     "output_type": "stream",
     "text": [
      "Dear David,\n",
      "\n",
      "I hope this message finds you well. I wanted to take a moment to share my excitement with you about the ongoing Olympic Games. The level of competition and sportsmanship displayed by the athletes is truly remarkable.\n",
      "\n",
      "The dedication and hard work that these individuals have put into their respective sports is truly inspiring. It is a privilege to witness such incredible talent on a global stage.\n",
      "\n",
      "I am looking forward to discussing the highlights of the games with you and hearing your thoughts on the various events. The Olympics never fail to bring people together in celebration of athleticism and unity.\n",
      "\n",
      "I hope you are enjoying the games as much as I am. Let's catch up soon to share our favorite moments and insights.\n",
      "\n",
      "Warm regards,\n",
      "\n",
      "John\n"
     ]
    }
   ],
   "source": [
    "# Escribe aquí el código para la tarea .\n",
    "\n",
    "prompt = f\"\"\"\n",
    "You are writing a formal business letter to a colleague named David. The content of the letter should convey excitement and enthusiasm, but in a professional tone. \n",
    "\n",
    "Here is the message that should be transformed into a business letter:\n",
    "\n",
    "\"David, it's John! OMG, the Olympic game is so crazy.\"\n",
    "\n",
    "Make sure to maintain professionalism while expressing enthusiasm about the Olympics. The letter should be polite, and should focus on sharing the excitement about the event without using informal language.\n",
    "\n",
    "Write the business letter below:\n",
    "\"\"\"\n",
    "response = get_chat_completion(prompt)\n",
    "print(response)\n"
   ]
  },
  {
   "cell_type": "markdown",
   "metadata": {
    "nteract": {
     "transient": {
      "deleting": false
     }
    }
   },
   "source": [
    "#### Tarea para Estudiantes:\n",
    "Conversión de Formato\n",
    "\n",
    "ChatGPT puede traducir entre formatos. El prompt debe describir los formatos de entrada y salida. Convierte los siguientes datos JSON al formato HTML."
   ]
  },
  {
   "cell_type": "code",
   "execution_count": 24,
   "metadata": {
    "gather": {
     "logged": 1685083768996
    },
    "jupyter": {
     "outputs_hidden": false,
     "source_hidden": false
    },
    "nteract": {
     "transient": {
      "deleting": false
     }
    }
   },
   "outputs": [],
   "source": [
    "data_json = { \"The 2020 Summer Olympics Opening Ceremony audience name list\" :[ \n",
    "    {\"name\":\"Shyam\", \"email\":\"shyamjaiswal@gmail.com\"},\n",
    "    {\"name\":\"Bob\", \"email\":\"bob32@gmail.com\"},\n",
    "    {\"name\":\"Jai\", \"email\":\"jai87@gmail.com\"}\n",
    "]}"
   ]
  },
  {
   "cell_type": "code",
   "execution_count": 25,
   "metadata": {
    "jupyter": {
     "outputs_hidden": false,
     "source_hidden": false
    },
    "nteract": {
     "transient": {
      "deleting": false
     }
    }
   },
   "outputs": [
    {
     "name": "stdout",
     "output_type": "stream",
     "text": [
      "<!DOCTYPE html>\n",
      "<html>\n",
      "<head>\n",
      "    <title>Summer Olympics Opening Ceremony Audience List</title>\n",
      "</head>\n",
      "<body>\n",
      "\n",
      "<h2>Summer Olympics Opening Ceremony Audience List</h2>\n",
      "\n",
      "<table border=\"1\">\n",
      "    <tr>\n",
      "        <th>Name</th>\n",
      "        <th>Email</th>\n",
      "    </tr>\n",
      "    <tr>\n",
      "        <td>Shyam</td>\n",
      "        <td>shyamjaiswal@gmail.com</td>\n",
      "    </tr>\n",
      "    <tr>\n",
      "        <td>Bob</td>\n",
      "        <td>bob32@gmail.com</td>\n",
      "    </tr>\n",
      "    <tr>\n",
      "        <td>Jai</td>\n",
      "        <td>jai87@gmail.com</td>\n",
      "    </tr>\n",
      "</table>\n",
      "\n",
      "</body>\n",
      "</html>\n"
     ]
    }
   ],
   "source": [
    "# Escribe aquí el código para la tarea .\n",
    "\n",
    "prompt = f\"\"\"\n",
    "You are tasked with converting the following JSON data into an HTML table format. The data consists of a list of audience names and their corresponding email addresses.\n",
    "\n",
    "Here is the JSON data:\n",
    "\n",
    "{data_json}\n",
    "\n",
    "Your task is to generate a well-formatted HTML table displaying the audience names in one column and the email addresses in the next. The table should include a header row with the titles \"Name\" and \"Email\". Ensure the table is clean, readable, and well-organized.\n",
    "\n",
    "Please generate the HTML code below:\n",
    "\"\"\"\n",
    "response = get_chat_completion(prompt)\n",
    "print(response)\n"
   ]
  },
  {
   "cell_type": "markdown",
   "metadata": {
    "nteract": {
     "transient": {
      "deleting": false
     }
    }
   },
   "source": [
    "#### Tarea para Estudiantes:\n",
    "Revisión ortográfica y gramatical del siguiente texto.\n",
    "\n",
    "Para indicarle al modelo LLM que deseas que revise tu texto, instruye al modelo para que 'revise' o 'revise y corrija'."
   ]
  },
  {
   "cell_type": "code",
   "execution_count": 26,
   "metadata": {
    "gather": {
     "logged": 1685084954682
    },
    "jupyter": {
     "outputs_hidden": false,
     "source_hidden": false
    },
    "nteract": {
     "transient": {
      "deleting": false
     }
    }
   },
   "outputs": [],
   "source": [
    "check_text = [ \n",
    "  \"Alongside the main Emblem blue, the five other colors use in the branding of the 2020 Games is : Kurenai red,   Ai blue,   Sakula pink,   Fuji purple, and   Matsuba green.\",\n",
    "  \"The competition have three round: heats, semifinals, and a final.\"\n",
    "]"
   ]
  },
  {
   "cell_type": "code",
   "execution_count": 27,
   "metadata": {
    "jupyter": {
     "outputs_hidden": false,
     "source_hidden": false
    },
    "nteract": {
     "transient": {
      "deleting": false
     }
    }
   },
   "outputs": [
    {
     "name": "stdout",
     "output_type": "stream",
     "text": [
      "Text with corrections:\n",
      "1. Alongside the main emblem blue, the five other colors used in the branding of the 2020 Games are: Kurenai red, Ai blue, Sakura pink, Fuji purple, and Matsuba green.\n",
      "2. The competition has three rounds: heats, semifinals, and a final.\n"
     ]
    }
   ],
   "source": [
    "# Escribe aquí el código para la tarea .\n",
    "\n",
    "prompt = f\"\"\"\n",
    "Your task is to review the following text and provide suggestions for improvement. If necessary, please correct any grammatical, spelling, or syntax errors. Ensure the text is clear and well-written.\n",
    "\n",
    "Text for review: \n",
    "1. {check_text[0]}\n",
    "2. {check_text[1]}\n",
    "\n",
    "Please provide a corrected version of the text, with any changes clearly indicated.\n",
    "\"\"\"\n",
    "response = get_chat_completion(prompt)\n",
    "print(response)\n"
   ]
  },
  {
   "cell_type": "code",
   "execution_count": 28,
   "metadata": {},
   "outputs": [
    {
     "name": "stdout",
     "output_type": "stream",
     "text": [
      "Revised text:\n",
      "\n",
      "In addition to the main Emblem blue, the five other colors used in the branding of the 2020 Games are: Kurenai red, Ai blue, Sakura pink, Fuji purple, and Matsuba green.\n",
      "The competition has three rounds: heats, semifinals, and a final.\n"
     ]
    }
   ],
   "source": [
    "# VERSION 2: \n",
    "\n",
    "for text in check_text:\n",
    "    prompt = f\"\"\"\n",
    "    Your task is to review the following text and provide suggestions for improvement. If necessary, please correct any grammatical, spelling, or syntax errors. Ensure the text is clear and well-written.\n",
    "\n",
    "    Text for review: \n",
    "    {text}\n",
    "\n",
    "    Please provide a corrected version of the text, with any changes clearly indicated.\n",
    "    \"\"\"\n",
    "    response = get_chat_completion(prompt)\n",
    "    print(response)"
   ]
  },
  {
   "cell_type": "markdown",
   "metadata": {
    "nteract": {
     "transient": {
      "deleting": false
     }
    }
   },
   "source": [
    "#### Táctica 5: Ampliación: personaliza la respuesta automática"
   ]
  },
  {
   "cell_type": "markdown",
   "metadata": {
    "nteract": {
     "transient": {
      "deleting": false
     }
    }
   },
   "source": [
    "#### Tarea para Estudiantes:\n",
    "Personaliza la respuesta automática al siguiente correo electrónico de un cliente.\n",
    "\n",
    "El cliente tuvo un problema al comprar un boleto para los Juegos Olímpicos."
   ]
  },
  {
   "cell_type": "code",
   "execution_count": 29,
   "metadata": {
    "gather": {
     "logged": 1685463156048
    },
    "jupyter": {
     "outputs_hidden": false,
     "source_hidden": false
    },
    "nteract": {
     "transient": {
      "deleting": false
     }
    }
   },
   "outputs": [],
   "source": [
    "# given the sentiment from the tactic on \"inferring\",\n",
    "# and the original customer message, customize the email\n",
    "sentiment = \"negative\"\n",
    "\n",
    "# review for a ticket transaction\n",
    "review = f\"\"\"\n",
    "I bought the ticket of \"Men's 100 metre freestyle swimming\" game last week.\\\n",
    "The transaction went through successfully. However, I still have not received the ticket.\\\n",
    "Over one week has passed.\\\n",
    "\"\"\""
   ]
  },
  {
   "cell_type": "code",
   "execution_count": 30,
   "metadata": {
    "jupyter": {
     "outputs_hidden": false,
     "source_hidden": false
    },
    "nteract": {
     "transient": {
      "deleting": false
     }
    }
   },
   "outputs": [
    {
     "name": "stdout",
     "output_type": "stream",
     "text": [
      "Dear valued customer,\n",
      "\n",
      "Thank you for reaching out to us regarding your recent purchase of the ticket for the \"Men's 100 metre freestyle swimming\" game. We apologize for any inconvenience you have experienced in not receiving your ticket yet.\n",
      "\n",
      "In order to assist you further, could you please provide us with the order ID associated with your purchase? This will help us locate your transaction and investigate the issue promptly.\n",
      "\n",
      "Your satisfaction is important to us, and we are committed to resolving this matter as quickly as possible. Thank you for your patience and understanding.\n",
      "\n",
      "Best regards,\n",
      "Customer Service Team\n"
     ]
    }
   ],
   "source": [
    "# Escribe aquí el código para la tarea .\n",
    "\n",
    "prompt = f\"\"\" \n",
    "you are a customer service bot that analyzes messages from users.sentiment\n",
    "\n",
    "Write a letter to let them know that are valuabre for us and if they faced any issue, ask them for the order id.\n",
    "\n",
    "If the message is positive, thak them their support.sentiment\n",
    "\n",
    "Here is the sentimen : {sentiment}.\n",
    "\n",
    "And here is the review: {review}\"\"\"\n",
    "\n",
    "response = get_chat_completion(prompt)\n",
    "print(response)"
   ]
  },
  {
   "cell_type": "markdown",
   "metadata": {
    "nteract": {
     "transient": {
      "deleting": false
     }
    }
   },
   "source": [
    "#### Táctica 6: Chatbot: personalizar conversaciones para tareas o comportamientos específicos"
   ]
  },
  {
   "cell_type": "markdown",
   "metadata": {
    "nteract": {
     "transient": {
      "deleting": false
     }
    }
   },
   "source": [
    "#### Tarea para Estudiantes:\n",
    "Crear una conversación con el chatbot para saber dónde se celebraron los Juegos Olímpicos de Verano de 2020."
   ]
  },
  {
   "cell_type": "code",
   "execution_count": 34,
   "metadata": {
    "jupyter": {
     "outputs_hidden": false,
     "source_hidden": false
    },
    "nteract": {
     "transient": {
      "deleting": false
     }
    }
   },
   "outputs": [
    {
     "name": "stdout",
     "output_type": "stream",
     "text": [
      "Is there anything else you would like to know about the Olympics?\n"
     ]
    }
   ],
   "source": [
    "# Escribe aquí el código para la tarea .\n",
    "\n",
    "messages = [\n",
    "    {'role': 'system', 'content': 'You are a friendly and informative chatbot.'},\n",
    "    {'role': 'user', 'content': 'Hi, where were the 2020 Summer Olympics held?'},\n",
    "    {'role': 'assistant', 'content': 'The 2020 Summer Olympics were held in Tokyo, Japan.'},\n",
    "    {'role': 'user', 'content': 'Was it in 2020 or another year?'},\n",
    "    {'role': 'assistant', 'content': 'The event was originally scheduled for 2020 but was postponed to 2021 due to the COVID-19 pandemic. However, it kept the name \"Tokyo 2020\" for branding purposes.'}\n",
    "]\n",
    "\n",
    "response = get_completion_from_messages(messages, temperature=1)\n",
    "print(response)\n"
   ]
  },
  {
   "cell_type": "markdown",
   "metadata": {
    "nteract": {
     "transient": {
      "deleting": false
     }
    }
   },
   "source": [
    "### 2.2 Dale tiempo al modelo para \"pensar\""
   ]
  },
  {
   "cell_type": "markdown",
   "metadata": {
    "nteract": {
     "transient": {
      "deleting": false
     }
    }
   },
   "source": [
    "#### Táctica 1: Especificar los pasos necesarios para completar una tarea\n",
    "A veces puedes ayudar al modelo a \"ralentizarse\" y ofrecer respuestas más robustas y detalladas especificando los pasos que debe seguir.\n",
    "\n",
    "Pidamos la salida en varios formatos especificados."
   ]
  },
  {
   "cell_type": "code",
   "execution_count": 35,
   "metadata": {
    "gather": {
     "logged": 1685051679218
    },
    "jupyter": {
     "outputs_hidden": false,
     "source_hidden": false
    },
    "nteract": {
     "transient": {
      "deleting": false
     }
    }
   },
   "outputs": [
    {
     "data": {
      "text/plain": [
       "'<div>Title: \"Road to Victory: The Three Rounds of the Competition\"</div>\\n\\nKeywords:\\n1. Competition\\n2. Heats\\n3. Semifinals\\n4. Final\\n5. Victory\\n\\n<table>\\n  <tr>\\n    <td>Competition Rounds</td>\\n    <td>Heats, Semifinals, Final</td>\\n  </tr>\\n</table>\\n\\n<h2>Article Publishing Information</h2>'"
      ]
     },
     "execution_count": 35,
     "metadata": {},
     "output_type": "execute_result"
    }
   ],
   "source": [
    "prompt = f\"\"\"\n",
    "Your task is to help a journalist summarize information from the article for publication.\n",
    "\n",
    "Write a title based on the information provided in the context delimited by triple backticks. \n",
    "The title should be short, catchy, and reflective of the article's narrative.\n",
    "\n",
    "After the title, generate five keywords from the context.\n",
    "\n",
    "After the keywords, include a table to organize the information. \n",
    "The table should have two columns. In the first column is the title.\n",
    "In the second column include the keywords as a list.\n",
    "\n",
    "Give the table the title 'Article Publishing Information'.\n",
    "\n",
    "Format everything as HTML that can be used in a website.\n",
    "Place the title in a <div> element.\n",
    "\n",
    "Context: ```{text}\n",
    "\n",
    "\"\"\" \n",
    "\n",
    "get_chat_completion(prompt)"
   ]
  },
  {
   "cell_type": "markdown",
   "metadata": {},
   "source": []
  },
  {
   "cell_type": "markdown",
   "metadata": {
    "nteract": {
     "transient": {
      "deleting": false
     }
    }
   },
   "source": [
    "#### Táctica 2: Instruir al modelo para que desarrolle su propia solución\n",
    "\n",
    "Existen dos métodos principales que demostraremos en esta sección para lograr que el modelo resuelva un problema en lugar de apresurarse a una conclusión: cadena de pensamiento (chain-of-thought) y encadenamiento (chaining). Estas estrategias pueden llevar a una mayor precisión, detalle y la capacidad de resolver desafíos complejos.\n",
    "\n",
    "\n",
    "2.1 - Prompting de cadena de pensamiento (Chain-of-thought)\n",
    "- Pedir al modelo que razone\n",
    "- Ejemplo de un solo disparo (one-shot)\n",
    "- Razonamiento del chatbot\n",
    "\n",
    "2.2 - Encadenamiento (Chaining)\n",
    "\n",
    "Continuemos trabajando con el conjunto de datos de los Juegos Olímpicos."
   ]
  },
  {
   "cell_type": "markdown",
   "metadata": {
    "nteract": {
     "transient": {
      "deleting": false
     }
    }
   },
   "source": [
    "#### 2.2.1 Prompting de Cadena de Pensamiento (Chain-of-Thought Prompting)\n",
    "\n",
    "Hagamos un poco de matemáticas. Los modelos de GPT ocasionalmente no resuelven muy bien problemas matemáticos directos, así que guiemos al modelo a través del problema.\n",
    "\n",
    "Descomponemos las tareas en piezas más pequeñas.\n",
    "\n",
    "Lee más sobre los métodos y la investigación en el documento técnico: https://github.com/openai/openai-cookbook/blob/main/techniques_to_improve_reliability.md"
   ]
  },
  {
   "cell_type": "markdown",
   "metadata": {
    "nteract": {
     "transient": {
      "deleting": false
     }
    }
   },
   "source": [
    "#### Táctica 1: Puedes comenzar pidiéndole específicamente al modelo que piense paso a paso."
   ]
  },
  {
   "cell_type": "code",
   "execution_count": 36,
   "metadata": {
    "gather": {
     "logged": 1685051978623
    },
    "jupyter": {
     "outputs_hidden": false,
     "source_hidden": false
    },
    "nteract": {
     "transient": {
      "deleting": false
     }
    }
   },
   "outputs": [
    {
     "data": {
      "text/plain": [
       "'Step 1: Identify the Olympic games held in Sydney\\nThe Olympic games held in Sydney were the 2000 Summer Olympics.\\n\\nStep 2: Determine the most decorated individual athlete at the 2000 Summer Olympics\\nTo find the most decorated individual athlete at the 2000 Summer Olympics, we need to look at the total number of medals won by athletes in various sports.\\n\\nStep 3: Research the total number of medals won by individual athletes at the 2000 Summer Olympics\\nAccording to the official Olympic website, the most decorated individual athlete at the 2000 Summer Olympics was American swimmer Michael Phelps, who won a total of 6 medals (3 gold, 2 silver, 1 bronze).\\n\\nStep 4: Final answer\\nANSWER is: Michael Phelps'"
      ]
     },
     "execution_count": 36,
     "metadata": {},
     "output_type": "execute_result"
    }
   ],
   "source": [
    "text = f\"\"\"\n",
    "    The 2020 Summer Olympics, officially the Games of the XXXII Olympiad and also known as Tokyo 2020, was an international multi-sport event held from 23 July to 8 August 2021 in Tokyo, Japan, with some preliminary events that began on 21 July 2021. Tokyo was selected as the host city during the 125th IOC Session in Buenos Aires, Argentina, on 7 September 2013.Originally scheduled to take place from 24 July to 9 August 2020, the event was postponed to 2021 on 24 March 2020 due to the global COVID-19 pandemic, the first such instance in the history of the Olympic Games (previous games had been cancelled but not rescheduled). However, the event retained the Tokyo 2020 branding for marketing purposes. It was largely held behind closed doors with no public spectators permitted due to the declaration of a state of emergency in the Greater Tokyo Area in response to the pandemic, the first and only Olympic Games to be held without official spectators. The Games were the most expensive ever, with total spending of over $20 billion.The Games were the fourth Olympic Games to be held in Japan, following the 1964 Summer Olympics (Tokyo), 1972 Winter Olympics (Sapporo), and 1998 Winter Olympics (Nagano). Tokyo became the first city in Asia to hold the Summer Olympic Games twice. The 2020 Games were the second of three consecutive Olympics to be held in East Asia, following the 2018 Winter Olympics in Pyeongchang, South Korea and preceding the 2022 Winter Olympics in Beijing, China. Due to the one-year postponement, Tokyo 2020 was the first and only Olympic Games to have been held in an odd-numbered year and the first Summer Olympics since 1900 to be held in a non-leap year.\\nNew events were introduced in existing sports, including 3x3 basketball, freestyle BMX and mixed gender team events in a number of existing sports, as well as the return of madison cycling for men and an introduction of the same event for women. New IOC policies also allowed the host organizing committee to add new sports to the Olympic program for just one Games. The disciplines added by the Japanese Olympic Committee were baseball and softball, karate, sport climbing, surfing and skateboarding, the last four of which made their Olympic debuts, and the last three of which will remain on the Olympic program.The United States topped the medal count by both total golds (39) and total medals (113), with China finishing second by both respects (38 and 89). Host nation Japan finished third, setting a record for the most gold medals and total medals ever won by their delegation at an Olympic Games with 27 and 58. Great Britain finished fourth, with a total of 22 gold and 64 medals. The Russian delegation competing as the ROC finished fifth with 20 gold medals and third in the overall medal count, with 71 medals. Bermuda, the Philippines and Qatar won their first-ever Olympic gold medals. Burkina Faso, San Marino and Turkmenistan also won their first-ever Olympic medals.'\n",
    "\"\"\"\n",
    "\n",
    "# From Azure documentation\n",
    "prompt = \"Who was the most decorated (maximum medals) individual athlete in the Olympic games that were held at Sydney? Take a step-by-step approach in your response, cite sources and give reasoning before sharing final answer in the below format: ANSWER is: <name>\"\n",
    "get_chat_completion(prompt)"
   ]
  },
  {
   "cell_type": "code",
   "execution_count": 37,
   "metadata": {
    "jupyter": {
     "outputs_hidden": false,
     "source_hidden": false
    },
    "nteract": {
     "transient": {
      "deleting": false
     }
    }
   },
   "outputs": [
    {
     "data": {
      "text/plain": [
       "'To find the largest time zone difference between the top two countries who won the most gold medals in the 2020 Tokyo Olympics, we need to first identify the top two countries. According to the context provided, the United States won the most gold medals with 39, and China finished second with 38 gold medals.\\n\\nNext, we need to determine the time zone difference between the United States and China. The United States has multiple time zones, but for the purpose of this calculation, we can use the Eastern Time Zone (UTC-4) as a reference. China operates on China Standard Time (UTC+8).\\n\\nThe time zone difference between Eastern Time Zone (UTC-4) and China Standard Time (UTC+8) is 12 hours. Therefore, the largest time zone difference between the top two countries who won the most gold medals in the 2020 Tokyo Olympics is 12 hours.'"
      ]
     },
     "execution_count": 37,
     "metadata": {},
     "output_type": "execute_result"
    }
   ],
   "source": [
    "# Another example\n",
    "prompt = f\"\"\"\n",
    "What is the largest time zone difference is between the top two countries who \n",
    "won the most gold medals in the 2020 Tokyo olympics?\n",
    "\n",
    "Use the context below and think aloud as you solve the problem, step-by-step.\n",
    "\n",
    "Context: {text}\n",
    "\"\"\"\n",
    "get_chat_completion(prompt)"
   ]
  },
  {
   "cell_type": "markdown",
   "metadata": {
    "nteract": {
     "transient": {
      "deleting": false
     }
    }
   },
   "source": [
    "#### Táctica 2: Ejemplo de un solo disparo (One-shot)\n",
    "Otra táctica común es proporcionar un ejemplo de una consulta y una respuesta ideal. El modelo aprenderá de ese ejemplo y aplicará los patrones a una nueva pregunta."
   ]
  },
  {
   "cell_type": "code",
   "execution_count": 38,
   "metadata": {
    "gather": {
     "logged": 1685053144682
    },
    "jupyter": {
     "outputs_hidden": false,
     "source_hidden": false
    },
    "nteract": {
     "transient": {
      "deleting": false
     }
    }
   },
   "outputs": [
    {
     "data": {
      "text/plain": [
       "'The United States has 113 - 39 = 74 silver and bronze medals.\\nGreat Britain has 64 - 22 = 42 silver and bronze medals.\\nTherefore, the United States has 74 - 42 = 32 more silver and bronze medals than Great Britain.'"
      ]
     },
     "execution_count": 38,
     "metadata": {},
     "output_type": "execute_result"
    }
   ],
   "source": [
    "# Notice how this response may not be ideal, or the most accurate.\n",
    "prompt = f\"\"\"\n",
    "    The United States has 113 total medals, 39 of which are gold medals. \n",
    "    \n",
    "    Great Britain has 64 medals and 22 gold medals. \n",
    "    \n",
    "    How many more silver and bronze medals does the United States have over Great Britain?\n",
    "\"\"\"\n",
    "\n",
    "get_chat_completion(prompt)"
   ]
  },
  {
   "cell_type": "code",
   "execution_count": 39,
   "metadata": {
    "jupyter": {
     "outputs_hidden": false,
     "source_hidden": false
    },
    "nteract": {
     "transient": {
      "deleting": false
     }
    }
   },
   "outputs": [
    {
     "data": {
      "text/plain": [
       "'[Step 1] - There are three types of medals: gold, silver, and bronze\\n[Step 2] - We know the gold and total counts of medals, so the number of silver and bronze medals is the difference between the gold (38) and total (89) counts. \\n            89-38=51, so there are 51 silver and bronze medals combined. The answer is 51.'"
      ]
     },
     "execution_count": 39,
     "metadata": {},
     "output_type": "execute_result"
    }
   ],
   "source": [
    "# Give the model a one-shot example to solve the question more thoroughly\n",
    "\n",
    "prompt = f\"\"\"\n",
    "Question: The United States has 113 total medals, 39 of which are gold medals. How many medals are silver or bronze?\n",
    "Answer:\n",
    "[Step 1] - There are three types of medals: gold, silver, and bronze\n",
    "[Step 2] - We know the gold and total counts of medals, so the number of silver and bronze medals is the difference between the gold (39) and total (113) counts. \n",
    "            113-39=74, so there are 74 silver and bronze medals combined. The answer is 74.\n",
    "\n",
    "===\n",
    "\n",
    "Answer the following question using similar steps above.\n",
    "\n",
    "Question: China has 89 total medals, 38 of which are gold medals. How many silver and bronze medals do they have?\n",
    "Answer:\n",
    "\"\"\"\n",
    "\n",
    "get_chat_completion(prompt)"
   ]
  },
  {
   "cell_type": "markdown",
   "metadata": {
    "nteract": {
     "transient": {
      "deleting": false
     }
    }
   },
   "source": [
    "#### Táctica 3: Razonamiento de cadena de pensamiento del chatbot (chain-of-thought reasoning)\n",
    "Puedes incorporar lógica utilizando variables para que el chatbot pueda demostrar de manera dinámica formas específicas de pensar sobre un problema.\n",
    "\n",
    "**Para ingresar la información, aparecerá un cuadro de texto en la parte superior de la pantalla. Deberías ver una ventana emergente. Escribe 'quit' si quieres salir.**"
   ]
  },
  {
   "cell_type": "code",
   "execution_count": null,
   "metadata": {
    "jupyter": {
     "outputs_hidden": false,
     "source_hidden": false
    },
    "nteract": {
     "transient": {
      "deleting": false
     }
    }
   },
   "outputs": [
    {
     "name": "stdout",
     "output_type": "stream",
     "text": [
      "1\n",
      "\n",
      "Hello! How can I assist you today?\n",
      "\n",
      "[Problem/Scenario/Question]: Are you trying to decide between two different job offers?\n",
      "\n",
      "\n",
      "Great! Let's start with the first question to help you make a decision:\n",
      "\n",
      "[Step 1]: Identify the key element in the decision-making process between the two job offers.\n",
      "\n",
      "4\n",
      "\n",
      "In order to help you make a decision between the two job offers, let's move on to the next question:\n",
      "\n",
      "[Step 2]: Understand the factors that are important to you in a job. What are the key differences between the two job offers that stand out to you?\n",
      "\n",
      "6\n"
     ]
    }
   ],
   "source": [
    "# Ask the bot to help you make a decision such as deciding whether to take a job or choose between restaurants.\n",
    "# If the model does not immediately respond to your query, wait 1-5 seconds and retype it.\n",
    "# If it is not allowing you to give an input, restart the kernel in the navigation bar.\n",
    "# Type \"quit\" to end the session\n",
    "\n",
    "context = '''\n",
    "        You are a decision bot. Your job is to help come to decision by asking a series of questions one at a time and coming to a reasonable decision based on the information provided.\n",
    "\n",
    "        You will use the following format to help create the series of questions.\n",
    "\n",
    "        Template: \n",
    "        [Problem/Scenario/Question]: [Provide a brief description of the problem, scenario, or question.]\n",
    "\n",
    "        Chain of thought:\n",
    "\n",
    "        [Step 1]: Identify the [key element/variable] in the [problem/scenario/question].\n",
    "        [Step 2]: Understand the [relationship/connection] between [element A] and [element B].\n",
    "        [Step 3]: [Analyze/Evaluate/Consider] the [context/implication] of the [relationship/connection] between [element A] and [element B].\n",
    "        [Step 4]: [Conclude/Decide/Determine] the [outcome/solution] based on the [analysis/evaluation/consideration] of [element A], [element B], and their [relationship/connection].\n",
    "        [Answer/Conclusion/Recommendation]: [Provide a coherent and logical response based on the chain of thought.]\n",
    "\n",
    "        You will guide the user though a series of questions one at a time. The first question is broad, and they subsequent questions become more specific. \n",
    "\n",
    "        Begin by introducing yourself and asking the first question (step 1) only and nothing else, in simple and easy way.\n",
    "        '''\n",
    "\n",
    "conversation=[{\"role\": \"system\", \"content\": context}]\n",
    "\n",
    "while(True):\n",
    "    print(len(conversation))\n",
    "    if len(conversation) == 1:\n",
    "        response = get_completion_from_messages(conversation)\n",
    "        conversation.append({\"role\": \"assistant\", \"content\": response})\n",
    "        print(\"\\n\" + response + \"\\n\")\n",
    "    \n",
    "    user_input = input('Enter your response: ')\n",
    "    if user_input.lower() == \"quit\":\n",
    "        break \n",
    "    conversation.append({\"role\": \"user\", \"content\": user_input})\n",
    "    \n",
    "    response = get_completion_from_messages(conversation)\n",
    "    conversation.append({\"role\": \"assistant\", \"content\": response})\n",
    "    print(\"\\n\" + response + \"\\n\")\n"
   ]
  },
  {
   "cell_type": "markdown",
   "metadata": {
    "nteract": {
     "transient": {
      "deleting": false
     }
    }
   },
   "source": [
    "#### 2.2.2 - Encadenamiento / Chaining\n",
    "Similar a algunos ejemplos anteriores, puedes usar las salidas del modelo de consultas anteriores en otras consultas. Más adelante en el Hack te mostraremos cómo hacer esto a escala."
   ]
  },
  {
   "cell_type": "code",
   "execution_count": 6,
   "metadata": {
    "gather": {
     "logged": 1685051679330
    },
    "jupyter": {
     "outputs_hidden": false,
     "source_hidden": false
    },
    "nteract": {
     "transient": {
      "deleting": false
     }
    }
   },
   "outputs": [
    {
     "name": "stdout",
     "output_type": "stream",
     "text": [
      "The Tokyo 2020 Olympics have come to a close, and it's time to reflect on the winners and losers based on the medal count. The United States emerged as the clear winner, topping the medal table with a total of 113 medals, including an impressive 39 gold medals. This performance solidified their status as a powerhouse in the world of sports.\n",
      "\n",
      "China closely followed the United States, finishing with 89 total medals, including 38 golds. Their strong showing demonstrated their continued dominance in various Olympic disciplines. Japan, the host country, also had a successful Olympics, winning 27 gold medals and a total of 58 medals overall.\n",
      "\n",
      "Great Britain and the Russian Olympic Committee (ROC) also had commendable performances, with 22 and 20 gold medals respectively. These countries showcased their talent and dedication to excellence in sports.\n",
      "\n",
      "On the other end of the spectrum, countries like Bermuda, the Philippines, and Qatar each won one gold medal, highlighting their athletes' remarkable achievements on the\n",
      "\"United States Dominates Tokyo Olympics\"\n"
     ]
    }
   ],
   "source": [
    "# Extract medal counts for each country from the news article\n",
    "# Write an article about the summarized information\n",
    "# Provide a title for the summary\n",
    "\n",
    "text = f\"\"\"\n",
    "    The 2020 Summer Olympics, officially the Games of the XXXII Olympiad and also known as Tokyo 2020, was an international multi-sport event held from 23 July to 8 August 2021 in Tokyo, Japan, with some preliminary events that began on 21 July 2021. Tokyo was selected as the host city during the 125th IOC Session in Buenos Aires, Argentina, on 7 September 2013.Originally scheduled to take place from 24 July to 9 August 2020, the event was postponed to 2021 on 24 March 2020 due to the global COVID-19 pandemic, the first such instance in the history of the Olympic Games (previous games had been cancelled but not rescheduled). However, the event retained the Tokyo 2020 branding for marketing purposes. It was largely held behind closed doors with no public spectators permitted due to the declaration of a state of emergency in the Greater Tokyo Area in response to the pandemic, the first and only Olympic Games to be held without official spectators. The Games were the most expensive ever, with total spending of over $20 billion.The Games were the fourth Olympic Games to be held in Japan, following the 1964 Summer Olympics (Tokyo), 1972 Winter Olympics (Sapporo), and 1998 Winter Olympics (Nagano). Tokyo became the first city in Asia to hold the Summer Olympic Games twice. The 2020 Games were the second of three consecutive Olympics to be held in East Asia, following the 2018 Winter Olympics in Pyeongchang, South Korea and preceding the 2022 Winter Olympics in Beijing, China. Due to the one-year postponement, Tokyo 2020 was the first and only Olympic Games to have been held in an odd-numbered year and the first Summer Olympics since 1900 to be held in a non-leap year.\\nNew events were introduced in existing sports, including 3x3 basketball, freestyle BMX and mixed gender team events in a number of existing sports, as well as the return of madison cycling for men and an introduction of the same event for women. New IOC policies also allowed the host organizing committee to add new sports to the Olympic program for just one Games. The disciplines added by the Japanese Olympic Committee were baseball and softball, karate, sport climbing, surfing and skateboarding, the last four of which made their Olympic debuts, and the last three of which will remain on the Olympic program.The United States topped the medal count by both total golds (39) and total medals (113), with China finishing second by both respects (38 and 89). Host nation Japan finished third, setting a record for the most gold medals and total medals ever won by their delegation at an Olympic Games with 27 and 58. Great Britain finished fourth, with a total of 22 gold and 64 medals. The Russian delegation competing as the ROC finished fifth with 20 gold medals and third in the overall medal count, with 71 medals. Bermuda, the Philippines and Qatar won their first-ever Olympic gold medals. Burkina Faso, San Marino and Turkmenistan also won their first-ever Olympic medals.'\n",
    "\"\"\"\n",
    "\n",
    "prompt = f\"\"\"\n",
    "    Based on the context below, write a JSON object that contains the number of gold and total medals for each country.\n",
    "    Context: {text}\n",
    "\"\"\"\n",
    "num_medals_dict = get_chat_completion(prompt)\n",
    "\n",
    "prompt = f\"\"\"\n",
    "    Write a brief article about the winners and losers of the Olympics based on medal count:\n",
    "    {num_medals_dict}\n",
    "\"\"\"\n",
    "summary = get_chat_completion(prompt)\n",
    "print(summary)\n",
    "\n",
    "prompt = f\"\"\"\n",
    "    Give the summary a title in 5 words:\n",
    "    {summary}\n",
    "\"\"\"\n",
    "title = get_chat_completion(prompt)\n",
    "print(title)"
   ]
  },
  {
   "cell_type": "markdown",
   "metadata": {
    "nteract": {
     "transient": {
      "deleting": false
     }
    }
   },
   "source": [
    "#### Tarea para Estudiantes (Encadenamiento / Chaining):\n",
    "\n",
    "Tu tarea ahora es escribir código que determine el país que ganó la mayor cantidad de medallas de plata y bronce combinadas.\n",
    "\n",
    "Podemos ver que el modelo tiene un rendimiento deficiente al responder la pregunta directamente."
   ]
  },
  {
   "cell_type": "code",
   "execution_count": 7,
   "metadata": {
    "gather": {
     "logged": 1685053948700
    },
    "jupyter": {
     "outputs_hidden": false,
     "source_hidden": false
    },
    "nteract": {
     "transient": {
      "deleting": false
     }
    }
   },
   "outputs": [
    {
     "data": {
      "text/plain": [
       "'Based on the context, the United States had the most silver and bronze medals at the 2020 Summer Olympics.'"
      ]
     },
     "execution_count": 7,
     "metadata": {},
     "output_type": "execute_result"
    }
   ],
   "source": [
    "prompt = f\"\"\"\n",
    "    Based on the context, which country had the most silver and bronze medals?\n",
    "    Context: {text}\n",
    "\"\"\"\n",
    "\n",
    "get_chat_completion(prompt)"
   ]
  },
  {
   "cell_type": "markdown",
   "metadata": {
    "nteract": {
     "transient": {
      "deleting": false
     }
    }
   },
   "source": [
    "Escribe prompts en la celda a continuación que ayudarán al modelo a responder la pregunta desglosando las tareas en diferentes pasos. Asegúrate de que responda solo con la información que se le proporcionó. Este concepto de fundamentación se presentará con más detalle en el Reto 3.\n",
    "\n",
    "Deberías poder lograr que el modelo responda la pregunta en 2-3 pasos."
   ]
  },
  {
   "cell_type": "code",
   "execution_count": 8,
   "metadata": {
    "jupyter": {
     "outputs_hidden": false,
     "source_hidden": false
    },
    "nteract": {
     "transient": {
      "deleting": false
     }
    }
   },
   "outputs": [
    {
     "name": "stdout",
     "output_type": "stream",
     "text": [
      "United States:\n",
      "- Silver Medals: 41\n",
      "- Bronze Medals: 33\n",
      "\n",
      "China:\n",
      "- Silver Medals: 32\n",
      "- Bronze Medals: 51\n",
      "\n",
      "Japan:\n",
      "- Silver Medals: 14\n",
      "- Bronze Medals: 17\n",
      "\n",
      "Great Britain:\n",
      "- Silver Medals: 21\n",
      "- Bronze Medals: 42\n",
      "\n",
      "ROC (Russian delegation):\n",
      "- Silver Medals: 28\n",
      "- Bronze Medals: 23\n",
      "\n",
      "Bermuda:\n",
      "- Silver Medals: 0\n",
      "- Bronze Medals: 0\n",
      "\n",
      "Philippines:\n",
      "- Silver Medals: 0\n",
      "- Bronze Medals: 0\n",
      "\n",
      "Qatar:\n",
      "- Silver Medals: 0\n",
      "- Bronze Medals: 0\n",
      "\n",
      "Burkina Faso:\n",
      "- Silver Medals: 0\n",
      "- Bronze Medals: 0\n",
      "\n",
      "San Marino:\n",
      "- Silver Medals: 0\n",
      "- Bronze Medals: 0\n",
      "\n",
      "Turkmenistan:\n",
      "-\n",
      "Based on the information provided, the country with the most silver and bronze medals in total is the United States with a total of 74 medals (41 silver and 33 bronze).\n",
      "Based on the silver and bronze medal count, China had the most silver medals with 32, and Great Britain had the most bronze medals with 42.\n"
     ]
    }
   ],
   "source": [
    "# Escribe aquí el código para la tarea .\n",
    "\n",
    "prompt = f\"\"\"\n",
    "    Based on the context below, extract the number of silver and bronze medals for each country mentioned.\n",
    "    Context: {text}\n",
    "\"\"\"\n",
    "silver_bronze_medals = get_chat_completion(prompt)\n",
    "print(silver_bronze_medals)\n",
    "\n",
    "prompt = f\"\"\"\n",
    "    Based on the extracted information about silver and bronze medals, \n",
    "    determine which country had the most silver and bronze medals in total.\n",
    "    Silver and bronze medals data: {silver_bronze_medals}\n",
    "\"\"\"\n",
    "most_silver_bronze = get_chat_completion(prompt)\n",
    "print(most_silver_bronze)\n",
    "\n",
    "prompt = f\"\"\"\n",
    "    Based on the silver and bronze medal count, which country had the most silver medals and which country had the most bronze medals?\n",
    "    Silver and bronze medals data: {silver_bronze_medals}\n",
    "\"\"\"\n",
    "final_answer = get_chat_completion(prompt)\n",
    "print(final_answer)\n",
    "\n"
   ]
  },
  {
   "cell_type": "markdown",
   "metadata": {},
   "source": [
    "## Conclusión\n",
    "\n",
    "En este primer desafío, cubrimos cómo interactuar con Azure OpenAI para diferentes objetivos. Esperamos que hayas podido ver la versatilidad dinámica de los modelos y cómo pueden usarse para resolver una variedad de problemas utilizando diferentes técnicas.\n",
    "\n",
    "Le dimos a la API piezas cortas de texto usando variables fijas. En el próximo conjunto de desafíos, verás cómo usar la API con conjuntos de datos más grandes."
   ]
  }
 ],
 "metadata": {
  "kernel_info": {
   "name": "python38-azureml"
  },
  "kernelspec": {
   "display_name": "Python 3",
   "language": "python",
   "name": "python3"
  },
  "language_info": {
   "codemirror_mode": {
    "name": "ipython",
    "version": 3
   },
   "file_extension": ".py",
   "mimetype": "text/x-python",
   "name": "python",
   "nbconvert_exporter": "python",
   "pygments_lexer": "ipython3",
   "version": "3.12.1"
  },
  "microsoft": {
   "host": {
    "AzureML": {
     "notebookHasBeenCompleted": true
    }
   },
   "ms_spell_check": {
    "ms_spell_check_language": "en"
   }
  },
  "nteract": {
   "version": "nteract-front-end@1.0.0"
  }
 },
 "nbformat": 4,
 "nbformat_minor": 2
}
